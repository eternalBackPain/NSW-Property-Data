{
 "cells": [
  {
   "cell_type": "markdown",
   "metadata": {},
   "source": [
    "# Analysing NSW Property Data\n",
    "\n"
   ]
  },
  {
   "cell_type": "code",
   "execution_count": 46,
   "metadata": {},
   "outputs": [],
   "source": [
    "import pandas as pd\n",
    "import os\n",
    "import matplotlib.pyplot as plt\n"
   ]
  },
  {
   "cell_type": "markdown",
   "metadata": {},
   "source": [
    "#### Combine the data"
   ]
  },
  {
   "cell_type": "code",
   "execution_count": 47,
   "metadata": {},
   "outputs": [],
   "source": [
    "files = [file for file in os.listdir(\"./LGA_data\") if file.endswith(\".xls\")]\n",
    "all_files = pd.DataFrame()\n",
    "\n",
    "for file in files:\n",
    "    df = pd.read_excel(\"./LGA_data/\" + file)\n",
    "    all_files = pd.concat([all_files, df])"
   ]
  },
  {
   "cell_type": "markdown",
   "metadata": {},
   "source": [
    "#### Clean the data"
   ]
  },
  {
   "cell_type": "code",
   "execution_count": null,
   "metadata": {},
   "outputs": [],
   "source": [
    "num_rows = all_files.shape[0]\n",
    "print(\"Number of rows before cleaning:\", num_rows)\n",
    "all_files.dropna(subset=['Street Display'], inplace=True)\n",
    "num_rows = all_files.shape[0]\n",
    "print(\"Number of rows after dropping NAs:\", num_rows)\n",
    "all_files.drop_duplicates(inplace=True)\n",
    "num_rows = all_files.shape[0]\n",
    "print(\"Number of rows after dropping duplicates:\", num_rows)\n"
   ]
  },
  {
   "cell_type": "code",
   "execution_count": null,
   "metadata": {},
   "outputs": [],
   "source": [
    "df = all_files\n",
    "df.to_csv('alldata.csv', index=False)"
   ]
  },
  {
   "cell_type": "markdown",
   "metadata": {},
   "source": [
    "#### Check the data"
   ]
  },
  {
   "cell_type": "code",
   "execution_count": null,
   "metadata": {},
   "outputs": [],
   "source": [
    "# Check if all LGAs have sale data from 1/7/2018 to 1/7/2023\n",
    "# oldest_sale_dates = df.groupby('LGA')['Sale Date'].min()\n",
    "# print(oldest_sale_dates)\n",
    "# oldest_sale_dates.to_csv('oldest_sale_dates.csv')"
   ]
  },
  {
   "cell_type": "markdown",
   "metadata": {},
   "source": [
    "When downloading the data, I noticed that there would be a maximum of 10,000 observations downloaded for each LGA. I want to investigate whether there is a gap of sales data in those LGAs from 01/07/2018 to 01/07/2023. I will need to download more data for these LGAs. Below I find at what date I should re-download data."
   ]
  },
  {
   "cell_type": "code",
   "execution_count": null,
   "metadata": {},
   "outputs": [],
   "source": [
    "# Group the data by LGA and count the number of sales\n",
    "sales_count_by_lga = df['LGA'].value_counts()\n",
    "\n",
    "# Plot the distribution graph\n",
    "plt.figure(figsize=(12, 6))  # Adjust the figure size as needed\n",
    "sales_count_by_lga.plot(kind='bar')\n",
    "plt.xlabel('LGA')\n",
    "plt.ylabel('Number of Sales')\n",
    "plt.title('Distribution of Sales by LGA')\n",
    "plt.xticks(rotation=90, fontsize=5)  # Rotate x-axis labels if needed\n",
    "plt.tight_layout()  # Adjust the layout\n",
    "plt.show()\n",
    "\n",
    "# Filter LGAs with 10,000 sales\n",
    "lgas_with_10000_sales = sales_count_by_lga[sales_count_by_lga == 10000]\n",
    "\n",
    "# Print the names of LGAs with 10,000 sales\n",
    "print(\"LGAs with 10,000 sales, latest sale dates, and Street Display:\")\n",
    "for lga in lgas_with_10000_sales.index:\n",
    "    lga_data = df[df['LGA'] == lga]\n",
    "    latest_sale_date = lga_data['Sale Date'].max()\n",
    "    latest_sale_street_display = lga_data.loc[lga_data['Sale Date'] == latest_sale_date, 'Street Display'].iloc[0]\n",
    "    print(f\"LGA: {lga}, Latest Sale Date: {latest_sale_date}, Street Display: {latest_sale_street_display}\")"
   ]
  },
  {
   "cell_type": "code",
   "execution_count": null,
   "metadata": {},
   "outputs": [],
   "source": [
    "# lga_specific_sales = df[df['LGA'] == 'RYDE CITY COUNCIL']\n",
    "# lga_specific_sales.head(30)\n"
   ]
  }
 ],
 "metadata": {
  "kernelspec": {
   "display_name": "base",
   "language": "python",
   "name": "python3"
  },
  "language_info": {
   "codemirror_mode": {
    "name": "ipython",
    "version": 3
   },
   "file_extension": ".py",
   "mimetype": "text/x-python",
   "name": "python",
   "nbconvert_exporter": "python",
   "pygments_lexer": "ipython3",
   "version": "3.10.9"
  },
  "orig_nbformat": 4
 },
 "nbformat": 4,
 "nbformat_minor": 2
}

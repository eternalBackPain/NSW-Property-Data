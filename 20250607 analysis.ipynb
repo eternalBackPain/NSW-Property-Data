{
 "cells": [
  {
   "cell_type": "code",
   "execution_count": 1,
   "id": "63597e78",
   "metadata": {},
   "outputs": [],
   "source": [
    "import pandas as pd\n",
    "import os\n",
    "import matplotlib.pyplot as plt\n",
    "import seaborn as sns\n",
    "from datetime import datetime, timedelta\n",
    "import colorsys\n",
    "\n",
    "pd.set_option('display.max_columns', None)\n",
    "pd.set_option('display.max_rows', None)"
   ]
  },
  {
   "cell_type": "code",
   "execution_count": 2,
   "id": "cc009756",
   "metadata": {},
   "outputs": [
    {
     "name": "stderr",
     "output_type": "stream",
     "text": [
      "C:\\Users\\johnn\\AppData\\Local\\Temp\\ipykernel_18608\\912865602.py:6: FutureWarning: The behavior of DataFrame concatenation with empty or all-NA entries is deprecated. In a future version, this will no longer exclude empty or all-NA columns when determining the result dtypes. To retain the old behavior, exclude the relevant entries before the concat operation.\n",
      "  all_files = pd.concat([all_files, df])\n"
     ]
    }
   ],
   "source": [
    "files = [file for file in os.listdir(\"./LGA_data\") if file.endswith(\".xls\")]\n",
    "all_files = pd.DataFrame()\n",
    "\n",
    "for file in files:\n",
    "    df = pd.read_excel(\"./LGA_data/\" + file)\n",
    "    all_files = pd.concat([all_files, df])"
   ]
  },
  {
   "cell_type": "code",
   "execution_count": 3,
   "id": "521280f0",
   "metadata": {},
   "outputs": [
    {
     "name": "stdout",
     "output_type": "stream",
     "text": [
      "Number of rows before cleaning: 874193\n",
      "Number of rows after dropping NAs: 873680\n",
      "Number of rows after dropping duplicates: 873610\n",
      "Number of rows after dropping obs with sales price = 0: 526075\n"
     ]
    }
   ],
   "source": [
    "num_rows = all_files.shape[0]\n",
    "print(\"Number of rows before cleaning:\", num_rows)\n",
    "all_files.dropna(subset=['Street Display'], inplace=True)\n",
    "num_rows = all_files.shape[0]\n",
    "print(\"Number of rows after dropping NAs:\", num_rows)\n",
    "all_files.drop_duplicates(inplace=True)\n",
    "num_rows = all_files.shape[0]\n",
    "print(\"Number of rows after dropping duplicates:\", num_rows)\n",
    "# Find the indices of the rows with sale price equal to 0\n",
    "indices_to_drop = all_files[all_files['Sale Price'] == 0].index\n",
    "# Drop the rows from the dataset\n",
    "all_files.drop(indices_to_drop, inplace=True)\n",
    "num_rows = all_files.shape[0]\n",
    "print(\"Number of rows after dropping obs with sales price = 0:\", num_rows)\n"
   ]
  },
  {
   "cell_type": "code",
   "execution_count": 4,
   "id": "5f204d9d",
   "metadata": {},
   "outputs": [],
   "source": [
    "all_files = all_files.reset_index(drop=True)\n",
    "df = all_files\n",
    "# df.to_csv('alldata.csv', index=False)"
   ]
  },
  {
   "cell_type": "code",
   "execution_count": 5,
   "id": "73ad82cb",
   "metadata": {},
   "outputs": [
    {
     "data": {
      "text/plain": [
       "Index(['Disclaimer', 'Building Name', 'Street Display',\n",
       "       'Alternate Street Display', 'Other', 'Unit', 'Number', 'Street Name',\n",
       "       'Locality', 'Postcode', 'Alt. Street', 'Alt. Locality',\n",
       "       'Legal Description', 'Volume/Folio', 'Vendor Names', 'Vendor Address',\n",
       "       'Purchaser Names', 'Purchaser Address', 'Volume Folio', 'Parish',\n",
       "       'Office Name', 'Agent Name', 'First Price', 'Change %', 'Last Price',\n",
       "       'Change %.1', 'Days To Sell', 'Sale Price', 'Sale Date',\n",
       "       'Settlement Date', 'Sale Type', 'Area', 'Building Area', 'Bedrooms',\n",
       "       'Bathrooms', 'Car Parks', 'Property Type', 'Land Use', 'Zoning',\n",
       "       'Main Rooms', 'Build Year', 'Building Style', 'Storeys', 'Wall Type',\n",
       "       'Roof Type', 'Improvements', 'Hundred', 'Sale Category',\n",
       "       'Document Status', 'Parties Related Flag', 'Parties Related',\n",
       "       'Valuation Date', 'Valuation Amount', 'LGA', 'Dealing Number',\n",
       "       'Government Number', 'Parent Government Number', 'PDS ID', 'Sale ID',\n",
       "       'Load Date', 'Property ID'],\n",
       "      dtype='object')"
      ]
     },
     "execution_count": 5,
     "metadata": {},
     "output_type": "execute_result"
    }
   ],
   "source": [
    "df.columns"
   ]
  },
  {
   "cell_type": "code",
   "execution_count": 6,
   "id": "a0389801",
   "metadata": {},
   "outputs": [
    {
     "data": {
      "text/plain": [
       "Disclaimer                          object\n",
       "Building Name                       object\n",
       "Street Display                      object\n",
       "Alternate Street Display           float64\n",
       "Other                              float64\n",
       "Unit                               float64\n",
       "Number                              object\n",
       "Street Name                         object\n",
       "Locality                            object\n",
       "Postcode                           float64\n",
       "Alt. Street                        float64\n",
       "Alt. Locality                      float64\n",
       "Legal Description                   object\n",
       "Volume/Folio                       float64\n",
       "Vendor Names                        object\n",
       "Vendor Address                      object\n",
       "Purchaser Names                     object\n",
       "Purchaser Address                   object\n",
       "Volume Folio                       float64\n",
       "Parish                             float64\n",
       "Office Name                         object\n",
       "Agent Name                          object\n",
       "First Price                         object\n",
       "Change %                           float64\n",
       "Last Price                          object\n",
       "Change %.1                         float64\n",
       "Days To Sell                       float64\n",
       "Sale Price                         float64\n",
       "Sale Date                   datetime64[ns]\n",
       "Settlement Date             datetime64[ns]\n",
       "Sale Type                           object\n",
       "Area                               float64\n",
       "Building Area                      float64\n",
       "Bedrooms                           float64\n",
       "Bathrooms                          float64\n",
       "Car Parks                          float64\n",
       "Property Type                       object\n",
       "Land Use                            object\n",
       "Zoning                              object\n",
       "Main Rooms                         float64\n",
       "Build Year                         float64\n",
       "Building Style                      object\n",
       "Storeys                            float64\n",
       "Wall Type                           object\n",
       "Roof Type                           object\n",
       "Improvements                       float64\n",
       "Hundred                            float64\n",
       "Sale Category                       object\n",
       "Document Status                    float64\n",
       "Parties Related Flag               float64\n",
       "Parties Related                    float64\n",
       "Valuation Date              datetime64[ns]\n",
       "Valuation Amount                   float64\n",
       "LGA                                 object\n",
       "Dealing Number                      object\n",
       "Government Number                   object\n",
       "Parent Government Number           float64\n",
       "PDS ID                             float64\n",
       "Sale ID                            float64\n",
       "Load Date                   datetime64[ns]\n",
       "Property ID                        float64\n",
       "dtype: object"
      ]
     },
     "execution_count": 6,
     "metadata": {},
     "output_type": "execute_result"
    }
   ],
   "source": [
    "df.dtypes"
   ]
  },
  {
   "cell_type": "code",
   "execution_count": null,
   "id": "6673bf6b",
   "metadata": {},
   "outputs": [
    {
     "ename": "KeyError",
     "evalue": "\"['Disclaimer', 'Building Name', 'Alternate Street Display', 'Other', 'Alt. Street', 'Alt. Locality', 'Volume/Folio', 'Volume Folio', 'Parish', 'Building Area', 'Main Rooms', 'Build Year', 'Building Style', 'Storeys', 'Wall Type', 'Roof Type', 'Improvements', 'Hundred', 'Sale Category', 'Document Status', 'Parties Related Flag', 'Parties Related', 'Valuation Date', 'Valuation Amount', 'Parent Government Number', 'Load Date', 'Property ID'] not found in axis\"",
     "output_type": "error",
     "traceback": [
      "\u001b[31m---------------------------------------------------------------------------\u001b[39m",
      "\u001b[31mKeyError\u001b[39m                                  Traceback (most recent call last)",
      "\u001b[36mCell\u001b[39m\u001b[36m \u001b[39m\u001b[32mIn[18]\u001b[39m\u001b[32m, line 2\u001b[39m\n\u001b[32m      1\u001b[39m \u001b[38;5;66;03m# Drop columns: 'Disclaimer', 'Building Name' and 25 other columns\u001b[39;00m\n\u001b[32m----> \u001b[39m\u001b[32m2\u001b[39m df = \u001b[43mdf\u001b[49m\u001b[43m.\u001b[49m\u001b[43mdrop\u001b[49m\u001b[43m(\u001b[49m\u001b[43mcolumns\u001b[49m\u001b[43m=\u001b[49m\u001b[43m[\u001b[49m\u001b[33;43m'\u001b[39;49m\u001b[33;43mDisclaimer\u001b[39;49m\u001b[33;43m'\u001b[39;49m\u001b[43m,\u001b[49m\u001b[43m \u001b[49m\u001b[33;43m'\u001b[39;49m\u001b[33;43mBuilding Name\u001b[39;49m\u001b[33;43m'\u001b[39;49m\u001b[43m,\u001b[49m\u001b[43m \u001b[49m\u001b[33;43m'\u001b[39;49m\u001b[33;43mAlternate Street Display\u001b[39;49m\u001b[33;43m'\u001b[39;49m\u001b[43m,\u001b[49m\u001b[43m \u001b[49m\u001b[33;43m'\u001b[39;49m\u001b[33;43mOther\u001b[39;49m\u001b[33;43m'\u001b[39;49m\u001b[43m,\u001b[49m\u001b[43m \u001b[49m\u001b[33;43m'\u001b[39;49m\u001b[33;43mAlt. Street\u001b[39;49m\u001b[33;43m'\u001b[39;49m\u001b[43m,\u001b[49m\u001b[43m \u001b[49m\u001b[33;43m'\u001b[39;49m\u001b[33;43mAlt. Locality\u001b[39;49m\u001b[33;43m'\u001b[39;49m\u001b[43m,\u001b[49m\u001b[43m \u001b[49m\u001b[33;43m'\u001b[39;49m\u001b[33;43mVolume/Folio\u001b[39;49m\u001b[33;43m'\u001b[39;49m\u001b[43m,\u001b[49m\u001b[43m \u001b[49m\u001b[33;43m'\u001b[39;49m\u001b[33;43mVolume Folio\u001b[39;49m\u001b[33;43m'\u001b[39;49m\u001b[43m,\u001b[49m\u001b[43m \u001b[49m\u001b[33;43m'\u001b[39;49m\u001b[33;43mParish\u001b[39;49m\u001b[33;43m'\u001b[39;49m\u001b[43m,\u001b[49m\u001b[43m \u001b[49m\u001b[33;43m'\u001b[39;49m\u001b[33;43mBuilding Area\u001b[39;49m\u001b[33;43m'\u001b[39;49m\u001b[43m,\u001b[49m\u001b[43m \u001b[49m\u001b[33;43m'\u001b[39;49m\u001b[33;43mMain Rooms\u001b[39;49m\u001b[33;43m'\u001b[39;49m\u001b[43m,\u001b[49m\u001b[43m \u001b[49m\u001b[33;43m'\u001b[39;49m\u001b[33;43mBuild Year\u001b[39;49m\u001b[33;43m'\u001b[39;49m\u001b[43m,\u001b[49m\u001b[43m \u001b[49m\u001b[33;43m'\u001b[39;49m\u001b[33;43mBuilding Style\u001b[39;49m\u001b[33;43m'\u001b[39;49m\u001b[43m,\u001b[49m\u001b[43m \u001b[49m\u001b[33;43m'\u001b[39;49m\u001b[33;43mStoreys\u001b[39;49m\u001b[33;43m'\u001b[39;49m\u001b[43m,\u001b[49m\u001b[43m \u001b[49m\u001b[33;43m'\u001b[39;49m\u001b[33;43mWall Type\u001b[39;49m\u001b[33;43m'\u001b[39;49m\u001b[43m,\u001b[49m\u001b[43m \u001b[49m\u001b[33;43m'\u001b[39;49m\u001b[33;43mRoof Type\u001b[39;49m\u001b[33;43m'\u001b[39;49m\u001b[43m,\u001b[49m\u001b[43m \u001b[49m\u001b[33;43m'\u001b[39;49m\u001b[33;43mImprovements\u001b[39;49m\u001b[33;43m'\u001b[39;49m\u001b[43m,\u001b[49m\u001b[43m \u001b[49m\u001b[33;43m'\u001b[39;49m\u001b[33;43mHundred\u001b[39;49m\u001b[33;43m'\u001b[39;49m\u001b[43m,\u001b[49m\u001b[43m \u001b[49m\u001b[33;43m'\u001b[39;49m\u001b[33;43mSale Category\u001b[39;49m\u001b[33;43m'\u001b[39;49m\u001b[43m,\u001b[49m\u001b[43m \u001b[49m\u001b[33;43m'\u001b[39;49m\u001b[33;43mDocument Status\u001b[39;49m\u001b[33;43m'\u001b[39;49m\u001b[43m,\u001b[49m\u001b[43m \u001b[49m\u001b[33;43m'\u001b[39;49m\u001b[33;43mParties Related Flag\u001b[39;49m\u001b[33;43m'\u001b[39;49m\u001b[43m,\u001b[49m\u001b[43m \u001b[49m\u001b[33;43m'\u001b[39;49m\u001b[33;43mParties Related\u001b[39;49m\u001b[33;43m'\u001b[39;49m\u001b[43m,\u001b[49m\u001b[43m \u001b[49m\u001b[33;43m'\u001b[39;49m\u001b[33;43mValuation Date\u001b[39;49m\u001b[33;43m'\u001b[39;49m\u001b[43m,\u001b[49m\u001b[43m \u001b[49m\u001b[33;43m'\u001b[39;49m\u001b[33;43mValuation Amount\u001b[39;49m\u001b[33;43m'\u001b[39;49m\u001b[43m,\u001b[49m\u001b[43m \u001b[49m\u001b[33;43m'\u001b[39;49m\u001b[33;43mParent Government Number\u001b[39;49m\u001b[33;43m'\u001b[39;49m\u001b[43m,\u001b[49m\u001b[43m \u001b[49m\u001b[33;43m'\u001b[39;49m\u001b[33;43mLoad Date\u001b[39;49m\u001b[33;43m'\u001b[39;49m\u001b[43m,\u001b[49m\u001b[43m \u001b[49m\u001b[33;43m'\u001b[39;49m\u001b[33;43mProperty ID\u001b[39;49m\u001b[33;43m'\u001b[39;49m\u001b[43m]\u001b[49m\u001b[43m)\u001b[49m\n\u001b[32m      4\u001b[39m \u001b[38;5;66;03m# Delete rows where Property Type is Commercial\u001b[39;00m\n\u001b[32m      5\u001b[39m df = df[df[\u001b[33m\"\u001b[39m\u001b[33mProperty Type\u001b[39m\u001b[33m\"\u001b[39m] != \u001b[33m\"\u001b[39m\u001b[33mCommercial\u001b[39m\u001b[33m\"\u001b[39m]\n",
      "\u001b[36mFile \u001b[39m\u001b[32mc:\\Users\\johnn\\Documents\\GitHub\\NSW-Property-Data\\.venv\\Lib\\site-packages\\pandas\\core\\frame.py:5588\u001b[39m, in \u001b[36mDataFrame.drop\u001b[39m\u001b[34m(self, labels, axis, index, columns, level, inplace, errors)\u001b[39m\n\u001b[32m   5440\u001b[39m \u001b[38;5;28;01mdef\u001b[39;00m\u001b[38;5;250m \u001b[39m\u001b[34mdrop\u001b[39m(\n\u001b[32m   5441\u001b[39m     \u001b[38;5;28mself\u001b[39m,\n\u001b[32m   5442\u001b[39m     labels: IndexLabel | \u001b[38;5;28;01mNone\u001b[39;00m = \u001b[38;5;28;01mNone\u001b[39;00m,\n\u001b[32m   (...)\u001b[39m\u001b[32m   5449\u001b[39m     errors: IgnoreRaise = \u001b[33m\"\u001b[39m\u001b[33mraise\u001b[39m\u001b[33m\"\u001b[39m,\n\u001b[32m   5450\u001b[39m ) -> DataFrame | \u001b[38;5;28;01mNone\u001b[39;00m:\n\u001b[32m   5451\u001b[39m \u001b[38;5;250m    \u001b[39m\u001b[33;03m\"\"\"\u001b[39;00m\n\u001b[32m   5452\u001b[39m \u001b[33;03m    Drop specified labels from rows or columns.\u001b[39;00m\n\u001b[32m   5453\u001b[39m \n\u001b[32m   (...)\u001b[39m\u001b[32m   5586\u001b[39m \u001b[33;03m            weight  1.0     0.8\u001b[39;00m\n\u001b[32m   5587\u001b[39m \u001b[33;03m    \"\"\"\u001b[39;00m\n\u001b[32m-> \u001b[39m\u001b[32m5588\u001b[39m     \u001b[38;5;28;01mreturn\u001b[39;00m \u001b[38;5;28;43msuper\u001b[39;49m\u001b[43m(\u001b[49m\u001b[43m)\u001b[49m\u001b[43m.\u001b[49m\u001b[43mdrop\u001b[49m\u001b[43m(\u001b[49m\n\u001b[32m   5589\u001b[39m \u001b[43m        \u001b[49m\u001b[43mlabels\u001b[49m\u001b[43m=\u001b[49m\u001b[43mlabels\u001b[49m\u001b[43m,\u001b[49m\n\u001b[32m   5590\u001b[39m \u001b[43m        \u001b[49m\u001b[43maxis\u001b[49m\u001b[43m=\u001b[49m\u001b[43maxis\u001b[49m\u001b[43m,\u001b[49m\n\u001b[32m   5591\u001b[39m \u001b[43m        \u001b[49m\u001b[43mindex\u001b[49m\u001b[43m=\u001b[49m\u001b[43mindex\u001b[49m\u001b[43m,\u001b[49m\n\u001b[32m   5592\u001b[39m \u001b[43m        \u001b[49m\u001b[43mcolumns\u001b[49m\u001b[43m=\u001b[49m\u001b[43mcolumns\u001b[49m\u001b[43m,\u001b[49m\n\u001b[32m   5593\u001b[39m \u001b[43m        \u001b[49m\u001b[43mlevel\u001b[49m\u001b[43m=\u001b[49m\u001b[43mlevel\u001b[49m\u001b[43m,\u001b[49m\n\u001b[32m   5594\u001b[39m \u001b[43m        \u001b[49m\u001b[43minplace\u001b[49m\u001b[43m=\u001b[49m\u001b[43minplace\u001b[49m\u001b[43m,\u001b[49m\n\u001b[32m   5595\u001b[39m \u001b[43m        \u001b[49m\u001b[43merrors\u001b[49m\u001b[43m=\u001b[49m\u001b[43merrors\u001b[49m\u001b[43m,\u001b[49m\n\u001b[32m   5596\u001b[39m \u001b[43m    \u001b[49m\u001b[43m)\u001b[49m\n",
      "\u001b[36mFile \u001b[39m\u001b[32mc:\\Users\\johnn\\Documents\\GitHub\\NSW-Property-Data\\.venv\\Lib\\site-packages\\pandas\\core\\generic.py:4807\u001b[39m, in \u001b[36mNDFrame.drop\u001b[39m\u001b[34m(self, labels, axis, index, columns, level, inplace, errors)\u001b[39m\n\u001b[32m   4805\u001b[39m \u001b[38;5;28;01mfor\u001b[39;00m axis, labels \u001b[38;5;129;01min\u001b[39;00m axes.items():\n\u001b[32m   4806\u001b[39m     \u001b[38;5;28;01mif\u001b[39;00m labels \u001b[38;5;129;01mis\u001b[39;00m \u001b[38;5;129;01mnot\u001b[39;00m \u001b[38;5;28;01mNone\u001b[39;00m:\n\u001b[32m-> \u001b[39m\u001b[32m4807\u001b[39m         obj = \u001b[43mobj\u001b[49m\u001b[43m.\u001b[49m\u001b[43m_drop_axis\u001b[49m\u001b[43m(\u001b[49m\u001b[43mlabels\u001b[49m\u001b[43m,\u001b[49m\u001b[43m \u001b[49m\u001b[43maxis\u001b[49m\u001b[43m,\u001b[49m\u001b[43m \u001b[49m\u001b[43mlevel\u001b[49m\u001b[43m=\u001b[49m\u001b[43mlevel\u001b[49m\u001b[43m,\u001b[49m\u001b[43m \u001b[49m\u001b[43merrors\u001b[49m\u001b[43m=\u001b[49m\u001b[43merrors\u001b[49m\u001b[43m)\u001b[49m\n\u001b[32m   4809\u001b[39m \u001b[38;5;28;01mif\u001b[39;00m inplace:\n\u001b[32m   4810\u001b[39m     \u001b[38;5;28mself\u001b[39m._update_inplace(obj)\n",
      "\u001b[36mFile \u001b[39m\u001b[32mc:\\Users\\johnn\\Documents\\GitHub\\NSW-Property-Data\\.venv\\Lib\\site-packages\\pandas\\core\\generic.py:4849\u001b[39m, in \u001b[36mNDFrame._drop_axis\u001b[39m\u001b[34m(self, labels, axis, level, errors, only_slice)\u001b[39m\n\u001b[32m   4847\u001b[39m         new_axis = axis.drop(labels, level=level, errors=errors)\n\u001b[32m   4848\u001b[39m     \u001b[38;5;28;01melse\u001b[39;00m:\n\u001b[32m-> \u001b[39m\u001b[32m4849\u001b[39m         new_axis = \u001b[43maxis\u001b[49m\u001b[43m.\u001b[49m\u001b[43mdrop\u001b[49m\u001b[43m(\u001b[49m\u001b[43mlabels\u001b[49m\u001b[43m,\u001b[49m\u001b[43m \u001b[49m\u001b[43merrors\u001b[49m\u001b[43m=\u001b[49m\u001b[43merrors\u001b[49m\u001b[43m)\u001b[49m\n\u001b[32m   4850\u001b[39m     indexer = axis.get_indexer(new_axis)\n\u001b[32m   4852\u001b[39m \u001b[38;5;66;03m# Case for non-unique axis\u001b[39;00m\n\u001b[32m   4853\u001b[39m \u001b[38;5;28;01melse\u001b[39;00m:\n",
      "\u001b[36mFile \u001b[39m\u001b[32mc:\\Users\\johnn\\Documents\\GitHub\\NSW-Property-Data\\.venv\\Lib\\site-packages\\pandas\\core\\indexes\\base.py:7098\u001b[39m, in \u001b[36mIndex.drop\u001b[39m\u001b[34m(self, labels, errors)\u001b[39m\n\u001b[32m   7096\u001b[39m \u001b[38;5;28;01mif\u001b[39;00m mask.any():\n\u001b[32m   7097\u001b[39m     \u001b[38;5;28;01mif\u001b[39;00m errors != \u001b[33m\"\u001b[39m\u001b[33mignore\u001b[39m\u001b[33m\"\u001b[39m:\n\u001b[32m-> \u001b[39m\u001b[32m7098\u001b[39m         \u001b[38;5;28;01mraise\u001b[39;00m \u001b[38;5;167;01mKeyError\u001b[39;00m(\u001b[33mf\u001b[39m\u001b[33m\"\u001b[39m\u001b[38;5;132;01m{\u001b[39;00mlabels[mask].tolist()\u001b[38;5;132;01m}\u001b[39;00m\u001b[33m not found in axis\u001b[39m\u001b[33m\"\u001b[39m)\n\u001b[32m   7099\u001b[39m     indexer = indexer[~mask]\n\u001b[32m   7100\u001b[39m \u001b[38;5;28;01mreturn\u001b[39;00m \u001b[38;5;28mself\u001b[39m.delete(indexer)\n",
      "\u001b[31mKeyError\u001b[39m: \"['Disclaimer', 'Building Name', 'Alternate Street Display', 'Other', 'Alt. Street', 'Alt. Locality', 'Volume/Folio', 'Volume Folio', 'Parish', 'Building Area', 'Main Rooms', 'Build Year', 'Building Style', 'Storeys', 'Wall Type', 'Roof Type', 'Improvements', 'Hundred', 'Sale Category', 'Document Status', 'Parties Related Flag', 'Parties Related', 'Valuation Date', 'Valuation Amount', 'Parent Government Number', 'Load Date', 'Property ID'] not found in axis\""
     ]
    }
   ],
   "source": [
    "# Drop columns: 'Disclaimer', 'Building Name' and 25 other columns\n",
    "df = df.drop(columns=['Disclaimer', 'Building Name', 'Alternate Street Display', 'Other', 'Alt. Street', 'Alt. Locality', 'Volume/Folio', 'Volume Folio', 'Parish', 'Building Area', 'Main Rooms', 'Build Year', 'Building Style', 'Storeys', 'Wall Type', 'Roof Type', 'Improvements', 'Hundred', 'Sale Category', 'Document Status', 'Parties Related Flag', 'Parties Related', 'Valuation Date', 'Valuation Amount', 'Parent Government Number', 'Load Date', 'Property ID'])\n",
    "\n",
    "\n"
   ]
  },
  {
   "cell_type": "code",
   "execution_count": null,
   "id": "6da6ccd6",
   "metadata": {},
   "outputs": [],
   "source": [
    "df = df[df[\"Property Type\"] != \"Commercial\"]"
   ]
  },
  {
   "cell_type": "code",
   "execution_count": null,
   "id": "143cc124",
   "metadata": {},
   "outputs": [],
   "source": [
    "df = df[df['Bedrooms'] <= 10]"
   ]
  },
  {
   "cell_type": "code",
   "execution_count": 23,
   "id": "33a393cb",
   "metadata": {},
   "outputs": [],
   "source": [
    "# Delete rows where \n",
    "df = df[df['Area'] <= 1000]"
   ]
  },
  {
   "cell_type": "code",
   "execution_count": 25,
   "id": "2720237d",
   "metadata": {},
   "outputs": [],
   "source": [
    "df = df[df['Bathrooms'] <= 10]"
   ]
  },
  {
   "cell_type": "code",
   "execution_count": null,
   "id": "671a20cc",
   "metadata": {},
   "outputs": [],
   "source": [
    "df = df[df[\"Property Type\"] != \"Industrial\"]\n",
    "df = df[df[\"Property Type\"] != \"Other\"]"
   ]
  },
  {
   "cell_type": "code",
   "execution_count": 28,
   "id": "fc0754c6",
   "metadata": {},
   "outputs": [],
   "source": [
    "df = df[df['Car Parks'] <= 10]"
   ]
  },
  {
   "cell_type": "code",
   "execution_count": 29,
   "id": "fc131dfa",
   "metadata": {},
   "outputs": [],
   "source": [
    "df = df[df['Sale Price'] <= 10000000]"
   ]
  },
  {
   "cell_type": "code",
   "execution_count": 31,
   "id": "82f84521",
   "metadata": {},
   "outputs": [
    {
     "data": {
      "text/plain": [
       "Street Display               object\n",
       "Unit                        float64\n",
       "Number                       object\n",
       "Street Name                  object\n",
       "Locality                     object\n",
       "Postcode                    float64\n",
       "Legal Description            object\n",
       "Vendor Names                 object\n",
       "Vendor Address               object\n",
       "Purchaser Names              object\n",
       "Purchaser Address            object\n",
       "Office Name                  object\n",
       "Agent Name                   object\n",
       "First Price                  object\n",
       "Change %                    float64\n",
       "Last Price                   object\n",
       "Change %.1                  float64\n",
       "Days To Sell                float64\n",
       "Sale Price                  float64\n",
       "Sale Date            datetime64[ns]\n",
       "Settlement Date      datetime64[ns]\n",
       "Sale Type                    object\n",
       "Area                        float64\n",
       "Bedrooms                    float64\n",
       "Bathrooms                   float64\n",
       "Car Parks                   float64\n",
       "Property Type                object\n",
       "Land Use                     object\n",
       "Zoning                       object\n",
       "LGA                          object\n",
       "Dealing Number               object\n",
       "Government Number            object\n",
       "PDS ID                      float64\n",
       "Sale ID                     float64\n",
       "dtype: object"
      ]
     },
     "execution_count": 31,
     "metadata": {},
     "output_type": "execute_result"
    }
   ],
   "source": [
    "df.dtypes"
   ]
  }
 ],
 "metadata": {
  "kernelspec": {
   "display_name": ".venv",
   "language": "python",
   "name": "python3"
  },
  "language_info": {
   "codemirror_mode": {
    "name": "ipython",
    "version": 3
   },
   "file_extension": ".py",
   "mimetype": "text/x-python",
   "name": "python",
   "nbconvert_exporter": "python",
   "pygments_lexer": "ipython3",
   "version": "3.12.10"
  }
 },
 "nbformat": 4,
 "nbformat_minor": 5
}
